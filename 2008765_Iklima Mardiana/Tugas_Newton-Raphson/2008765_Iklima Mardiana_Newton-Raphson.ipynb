{
 "cells": [
  {
   "cell_type": "code",
   "execution_count": 35,
   "metadata": {},
   "outputs": [
    {
     "name": "stdout",
     "output_type": "stream",
     "text": [
      "Iterasi-1, x1 = 6.000 dan f(x1) = 16.000\n",
      "Iterasi-2, x1 = 4.400 dan f(x1) = 2.560\n",
      "Iterasi-3, x1 = 4.024 dan f(x1) = 0.142\n",
      "Iterasi-4, x1 = 4.000 dan f(x1) = 0.001\n",
      "Iterasi-5, x1 = 4.000 dan f(x1) = 0.000\n",
      "\n",
      "Akarnya adalah: 4.000 yang terdapat pada iterasi ke-5\n"
     ]
    }
   ],
   "source": [
    "#Nama : Iklima Mardiana\n",
    "#NIM : 2008765\n",
    "#Kelas : KOM-5A\n",
    "\n",
    "\n",
    "# Mendefinisikan Fungsi\n",
    "def f(x):\n",
    "    return x**2 - 2*x - 8\n",
    "\n",
    "# Mendefinisikan turunan dari fungsi f(x)\n",
    "def g(x):\n",
    "    return 2*x-2\n",
    "\n",
    "# Membuat fungsi untuk mengimplementasikan newton raphson \n",
    "def newtonRaphson(x0,e,N):\n",
    "    iterasi = 0\n",
    "    tanda = 1\n",
    "    kondisi = True\n",
    "    while kondisi: \n",
    "        x1 = x0 - f(x0)/g(x0)\n",
    "        print('Iterasi-%d, x1 = %0.3f dan f(x1) = %0.3f' % (iterasi+1, x1, f(x1)))\n",
    "        x0 = x1\n",
    "        iterasi = iterasi + 1\n",
    "            \n",
    "        if iterasi > N:\n",
    "            tanda = 0\n",
    "            break\n",
    "            \n",
    "        kondisi = abs(f(x1)) > e\n",
    "    \n",
    "    if tanda==1:\n",
    "        print('\\nAkarnya adalah: %0.3f yang terdapat pada iterasi ke-%d' % (x1, iterasi))\n",
    "    else:\n",
    "        print('\\nTidak ada akar dari fungsi tersebut dalam iterasi ini')\n",
    "\n",
    "\n",
    "# penginputan\n",
    "x0 = float(input('Masukkan tebakan awal '))\n",
    "e = float(input('Masukkan toleransi eror: '))\n",
    "N = int(input('Masukkan jumlah maksimal iterasi: '))\n",
    "\n",
    "\n",
    "#memanggil fungsi newton-raphson\n",
    "if (g(x0)!=0):\n",
    "    newtonRaphson(x0,e,N)\n",
    "else:\n",
    "    print('Tidak dapat menghasilkan x1 karena g(x0)=0 \\nSilakan ulangi lagi dengan angka tebakan awal yang berbeda dari sebelumnya!')\n",
    "\n"
   ]
  }
 ],
 "metadata": {
  "kernelspec": {
   "display_name": "Python 3.10.6 64-bit",
   "language": "python",
   "name": "python3"
  },
  "language_info": {
   "codemirror_mode": {
    "name": "ipython",
    "version": 3
   },
   "file_extension": ".py",
   "mimetype": "text/x-python",
   "name": "python",
   "nbconvert_exporter": "python",
   "pygments_lexer": "ipython3",
   "version": "3.10.6"
  },
  "orig_nbformat": 4,
  "vscode": {
   "interpreter": {
    "hash": "fb4569285eef3a3450cb62085a5b1e0da4bce0af555edc33dcf29baf3acc1368"
   }
  }
 },
 "nbformat": 4,
 "nbformat_minor": 2
}
