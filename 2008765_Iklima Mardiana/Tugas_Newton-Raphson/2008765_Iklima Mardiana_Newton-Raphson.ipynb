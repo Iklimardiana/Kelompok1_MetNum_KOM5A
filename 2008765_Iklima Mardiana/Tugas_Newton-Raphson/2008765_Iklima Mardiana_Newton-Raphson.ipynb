#Nama : Iklima Mardiana
#NIM : 2008765
#Kelas : KOM-5A


# Mendefinisikan Fungsi
def f(x):
    return x**2 - 2*x - 8

# Mendefinisikan turunan dari fungsi f(x)
def g(x):
    return 2*x-2

# Membuat fungsi untuk mengimplementasikan newton raphson 
def newtonRaphson(x0,e,N):
    iterasi = 0
    tanda = 1
    kondisi = True
    while kondisi: 
        x1 = x0 - f(x0)/g(x0)
        print('Iterasi-%d, x1 = %0.3f dan f(x1) = %0.3f' % (iterasi+1, x1, f(x1)))
        x0 = x1
        iterasi = iterasi + 1
            
        if iterasi > N:
            tanda = 0
            break
            
        kondisi = abs(f(x1)) > e
    
    if tanda==1:
        print('\nAkarnya adalah: %0.3f yang terdapat pada iterasi ke-%d' % (x1, iterasi))
    else:
        print('\nTidak ada akar dari fungsi tersebut dalam iterasi ini')


# penginputan
x0 = float(input('Masukkan tebakan awal '))
e = float(input('Masukkan toleransi eror: '))
N = int(input('Masukkan jumlah maksimal iterasi: '))


#memanggil fungsi newton-raphson
if (g(x0)!=0):
    newtonRaphson(x0,e,N)
else:
    print('Tidak dapat menghasilkan x1 karena g(x0)=0 \nSilakan ulangi lagi dengan angka tebakan awal yang berbeda dari sebelumnya!')

