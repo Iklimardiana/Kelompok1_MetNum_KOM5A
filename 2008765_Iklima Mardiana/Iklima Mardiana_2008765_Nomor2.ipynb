{
 "cells": [
  {
   "cell_type": "code",
   "execution_count": null,
   "metadata": {},
   "outputs": [],
   "source": [
    "#Nama           : Iklima Mardiana\n",
    "#NIM            : 2008765\n",
    "#Mata Kuliah    : Metode Numerik"
   ]
  },
  {
   "cell_type": "code",
   "execution_count": null,
   "metadata": {},
   "outputs": [],
   "source": [
    "#a. Menampilkan matriks  A dan B\n",
    "import numpy as np\n",
    "\n",
    "A = np.array([[1, 2, 0],\n",
    "    [2, 2, 1],\n",
    "    [0, 3, 3]])\n",
    "\n",
    "B = np.array([[-1, 5],\n",
    "    [3, 1],\n",
    "    [0, 1]])\n",
    "\n",
    "print('Matriks A =\\n', A, '\\n')\n",
    "print('Matriks B =\\n', B)\n"
   ]
  },
  {
   "cell_type": "code",
   "execution_count": null,
   "metadata": {},
   "outputs": [],
   "source": [
    "#b. Mengalikan matriks A dan B\n",
    "\n",
    "\n",
    "C = np.zeros([len(A[0]), len(B[1])], dtype = int)\n",
    "\n",
    "for i in range(len(A)):     #Iterasi baris A\n",
    "   for j in range(len(B[0])):   #iterasi kolom matriks B\n",
    "       for k in range(len(B)):  #iterasi baris matriks B\n",
    "           C[i][j] += A[i][k] * B[k][j]"
   ]
  },
  {
   "cell_type": "code",
   "execution_count": null,
   "metadata": {},
   "outputs": [],
   "source": [
    "#c. Menampilkan hasil penjumlahan perkalian dan penjumlahan matriks A dan B\n",
    "\n",
    "if (len(A[0])) == (len(B[0])):\n",
    "    C = A + B\n",
    "    print('Hasil penjumlahan = \\n', C)\n",
    "else :\n",
    "    print('Matriks tidak bisa dijumlahkan karena ordo Matriks A tidak sama dengan ordo matriks B\\n')\n",
    "\n",
    "print ('Hasil Perkalian Mtariks A dan B:\\n')\n",
    "print (C)\n",
    "    "
   ]
  }
 ],
 "metadata": {
  "kernelspec": {
   "display_name": "Python 3.10.6 64-bit",
   "language": "python",
   "name": "python3"
  },
  "language_info": {
   "codemirror_mode": {
    "name": "ipython",
    "version": 3
   },
   "file_extension": ".py",
   "mimetype": "text/x-python",
   "name": "python",
   "nbconvert_exporter": "python",
   "pygments_lexer": "ipython3",
   "version": "3.10.6"
  },
  "orig_nbformat": 4,
  "vscode": {
   "interpreter": {
    "hash": "fb4569285eef3a3450cb62085a5b1e0da4bce0af555edc33dcf29baf3acc1368"
   }
  }
 },
 "nbformat": 4,
 "nbformat_minor": 2
}
