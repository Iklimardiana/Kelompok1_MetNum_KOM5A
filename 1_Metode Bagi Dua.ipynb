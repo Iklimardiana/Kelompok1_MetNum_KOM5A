{
  "cells": [
    {
      "cell_type": "code",
      "source": [
        "import numpy as np\n",
        "import matplotlib.pyplot as plt\n",
        "\n",
        "fungsi = input('Masukkan persamaan fungsi x : ')\n",
        "\n",
        "a = float(input('Masukkan nilai a : '))\n",
        "b = float(input('Masukkan nilai b : '))\n",
        "\n",
        "print('Nilai a dan b adalah ', a, ' dan ', b)\n",
        "\n",
        "def f(x):\n",
        "  y = fungsi.replace('x',str(x))\n",
        "  return eval(y)\n",
        "\n",
        "def bisection(a, b, galat):\n",
        "  n = 1\n",
        "  if(f(a)*f(b)>0):\n",
        "    print('Tidak memiliki akar persamaan')\n",
        "  else:\n",
        "    while abs(b-a) > galat:\n",
        "      x = (a+b)/2\n",
        "      print(n, '\\t', round(a,4), '    \\t ', round(b,4), '    \\t ', round(x,4), '    \\t ', round(f(a),4), '    \\t\\t ', round(f(b),4), '    \\t\\t ', round(f(x),4))\n",
        "\n",
        "      if f(x)==0:\n",
        "        print('\\nAkar persamaannya adalah ', x)\n",
        "        break\n",
        "      elif f(a)*f(x) < 0:\n",
        "        b = x\n",
        "      else:\n",
        "        a = x\n",
        "      n += 1\n",
        "\n",
        "    print('Akar persamaannya berada diantara ', round(a, 11), ' dan ', round(b,11))\n",
        "    \n",
        "print('n\\t a    \\t\\t b    \\t\\t c    \\t\\t f(a)    \\t\\t f(b)    \\t\\t f(c)')\n",
        "bisection (a,b, 0.0001)\n",
        "\n",
        "x = np.linspace(a,b)\n",
        "plt.plot(x, eval(fungsi))\n",
        "plt.grid()\n",
        "plt.show()"
      ],
      "metadata": {
        "id": "aUt-E7spjBQp",
        "outputId": "3d689a2c-200f-4d66-e763-011566c5e769",
        "colab": {
          "base_uri": "https://localhost:8080/",
          "height": 456
        }
      },
      "execution_count": null,
      "outputs": [
        {
          "output_type": "stream",
          "name": "stdout",
          "text": [
            "Masukkan persamaan fungsi x : x**2 + 2*x - 8\n",
            "Masukkan nilai a : 0.5\n",
            "Masukkan nilai b : 4.5\n",
            "Nilai a dan b adalah  0.5  dan  4.5\n",
            "n\t a    \t\t b    \t\t c    \t\t f(a)    \t\t f(b)    \t\t f(c)\n",
            "1 \t 0.5     \t  4.5     \t  2.5     \t  -6.75     \t\t  21.25     \t\t  3.25\n",
            "2 \t 0.5     \t  2.5     \t  1.5     \t  -6.75     \t\t  3.25     \t\t  -2.75\n",
            "3 \t 1.5     \t  2.5     \t  2.0     \t  -2.75     \t\t  3.25     \t\t  0.0\n",
            "\n",
            "Akar persamaannya adalah  2.0\n",
            "Akar persamaannya berada diantara  1.5  dan  2.5\n"
          ]
        },
        {
          "output_type": "display_data",
          "data": {
            "text/plain": [
              "<Figure size 432x288 with 1 Axes>"
            ],
            "image/png": "[encoded data removed]"
          },
          "metadata": {
            "needs_background": "light"
          }
        }
      ]
    }
  ],
  "metadata": {
    "colab": {
      "provenance": []
    },
    "kernelspec": {
      "display_name": "Python 3",
      "name": "python3"
    },
    "language_info": {
      "name": "python"
    }
  },
  "nbformat": 4,
  "nbformat_minor": 0
}
