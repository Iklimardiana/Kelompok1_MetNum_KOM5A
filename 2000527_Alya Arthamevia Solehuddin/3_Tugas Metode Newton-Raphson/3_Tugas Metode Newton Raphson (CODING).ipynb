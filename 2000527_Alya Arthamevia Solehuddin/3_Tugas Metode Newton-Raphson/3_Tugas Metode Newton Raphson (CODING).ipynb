{
  "nbformat": 4,
  "nbformat_minor": 0,
  "metadata": {
    "colab": {
      "provenance": [],
      "collapsed_sections": []
    },
    "kernelspec": {
      "name": "python3",
      "display_name": "Python 3"
    },
    "language_info": {
      "name": "python"
    }
  },
  "cells": [
    {
      "cell_type": "markdown",
      "source": [
        "* NAMA : ALYA ARTHAMEVIA SOLEHUDDIN\n",
        "* NIM : 2000527\n",
        "* KELAS : KOM-5A\n",
        "* MATERI : PROGRAM METODE NEWTON-RAPHSON"
      ],
      "metadata": {
        "id": "103UukWPvuNa"
      }
    },
    {
      "cell_type": "code",
      "execution_count": 1,
      "metadata": {
        "colab": {
          "base_uri": "https://localhost:8080/"
        },
        "id": "RdNCJZRHvsF7",
        "outputId": "11da23e3-fbbe-4bbc-ba7c-2b0f40af08f5"
      },
      "outputs": [
        {
          "output_type": "stream",
          "name": "stdout",
          "text": [
            "Result :  4.000000001396984\n"
          ]
        }
      ],
      "source": [
        "def newtons(f,df,x0): #Mendefinisikan fungsi dengan nama newtons\n",
        "  e = 10**-5 #Batas perkiraan f(x) mendekati 0\n",
        "  N = 10 #Iterasi\n",
        "  for i in range (0,N):\n",
        "    #abs = Mengembalikan nilai absolut dari angka yang diberikan\n",
        "    #f disini merupakan variabel yang berisi rumus SPL sesuai soal\n",
        "    #jika abs f(x0) kurang dari batas perkiraan f(x)\n",
        "    if abs(f(x0)) < e: \n",
        "        #maka akan mengembalikan nilai x0\n",
        "        #x0 merupakan nilai awal atau perkiraan akar x\n",
        "        return x0 \n",
        "    #df disini merupakan turunan dari rumus SPL yang diberikan\n",
        "    #Jika df(x0) sama dengan 0\n",
        "    if df(x0) == 0:\n",
        "        #Maka akan mencetak kata-kata \"Nilai derivative bernilai 0 atau zero derivative\"\n",
        "        print(\"Zero derivative\")\n",
        "        return None\n",
        "    #Kemudian akan melakukan rumus seperti yang sudah dilakukan pada langkah manual\n",
        "    #Dimana nilai x baru diambil pada nilai x0 dikurangi dengan hasil pembagian f(x0) dengan df(x0)\n",
        "    x0 = x0 - f(x0)/df(x0)\n",
        "  #Mencetak kata-kata \"Iterasi sudah maksimal\" atau \"Maximum Iteration\"\n",
        "  print(\"Maximum iteration\")\n",
        "  #Mengembalikan nilai ke x0 sebelumnya\n",
        "  return x0\n",
        "  \n",
        "#Mulai mengatur rumus f, df, dan memasukkan nilai x0\n",
        "f = lambda x: x**2-2*x-8\n",
        "df = lambda x: 2*x-2\n",
        "x0 = 2\n",
        "#Menggunakan fungsi newtons yang sudah didefinisikan\n",
        "#Kemudian memasukkannya ke dalam variabel x_root\n",
        "x_root = newtons(f,df,x0)\n",
        "#Mencetak hasil akhirnya\n",
        "print('Result : ', x_root)\n",
        "    #Ketika di run, hasilnya \"Result :  4.000000001396984\""
      ]
    }
  ]
}