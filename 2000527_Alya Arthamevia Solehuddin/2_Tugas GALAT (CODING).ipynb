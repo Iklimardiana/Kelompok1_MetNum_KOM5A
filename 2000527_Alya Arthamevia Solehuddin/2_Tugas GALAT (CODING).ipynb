{
  "nbformat": 4,
  "nbformat_minor": 0,
  "metadata": {
    "colab": {
      "provenance": [],
      "collapsed_sections": []
    },
    "kernelspec": {
      "name": "python3",
      "display_name": "Python 3"
    },
    "language_info": {
      "name": "python"
    }
  },
  "cells": [
    {
      "cell_type": "markdown",
      "source": [
        "TUGAS GALAT DAN EKSPLORASI PYTHON\n",
        "\n",
        "* NAMA : ALYA ARTHAMEVIA SOLEHUDDIN\n",
        "* NIM : 2000527\n",
        "* KELAS : KOM-5A\n",
        "\n"
      ],
      "metadata": {
        "id": "71pMovg3enmU"
      }
    },
    {
      "cell_type": "markdown",
      "source": [
        "TUGAS 1 [MODUL PYTHON] - PENGANTAR PYTHON\n",
        "\n",
        "*   Eksplor python dan beri keterangan!\n"
      ],
      "metadata": {
        "id": "lgIzuWFCes1z"
      }
    },
    {
      "cell_type": "code",
      "source": [
        "import numpy as np #Memasukkan bundle NumPy ke dalam program untuk mempermudah perhitungan array\n",
        "def my_bisection(g, a, b, e): #Mendefinisikan fungsi my_bisection\n",
        "  #np.sign digunakan untuk mengembalikan sign atau tanda dari setiap elemen angka dalam sebuah array\n",
        "  #artinya jika sign fungsi (g(a)) sama dengan sign fungsi (g(b)), maka...\n",
        "  if np.sign(g(a)) == np.sign(g(b)):\n",
        "    #kata \"raise\" biasanya digunakan untuk mengangkat sebuah exception atau error dan mencetaknya\n",
        "    raise Exception('Tidak ada akar pada interval a dan b')\n",
        "  #variabel m nantinya akan berisi hasil penjumlahan antara variabel a dan b; kemudian dibagi 2\n",
        "  m = (a + b)/2 \n",
        "  #np.abs digunakan untuk menghitung hasil yang absolut dari suatu Numpy Array\n",
        "  #artinya jika hasil absolut fungsi g(m) lebih kecil dari e\n",
        "  if np.abs(g(m)) < e:\n",
        "    return m #maka akan mengembalikan nilai m\n",
        "  #jika sign fungsi g(a) sama dengan sign fungsi g(m)\n",
        "  elif np.sign(g(a)) == np.sign(g(m)): \n",
        "    #maka akan mengembalikan nilai fungsi my_bisection(g, m, b, e)\n",
        "    return my_bisection(g, m, b, e)\n",
        "  #jika sign fungsi g(b) sama dengan sign fungsi g(m)\n",
        "  elif np.sign(g(b)) == np.sign(g(m)):\n",
        "    #maka akan mengembalikan nilai fungsi my_bisection(g, a, m, e)\n",
        "    return my_bisection(g, a, m, e) "
      ],
      "metadata": {
        "id": "7V0Iv5Dafbz5"
      },
      "execution_count": null,
      "outputs": []
    },
    {
      "cell_type": "markdown",
      "source": [
        "TUGAS 1 [MODUL PYTHON] - PENGANTAR PYTHON \n",
        "\n",
        "*   Definisikan matriks ordo A 2x3, B 3x3, C 3x2 kemudian buatlah perkaliannya! A X B; B X C; C X A"
      ],
      "metadata": {
        "id": "48zY2zFkfiQH"
      }
    },
    {
      "cell_type": "code",
      "source": [
        "from numpy import *\n",
        "\n",
        "# Definisi Matriks A\n",
        "matA = [[6, -1, 2], [-4, -2, 3]]\n",
        "matA = reshape(matA,(2,3))\n",
        "print(\"Matriks A (2X3): \\n\", matA, \"\\n\")\n",
        "\n",
        "# Definisi Matriks B\n",
        "matB = [[-4, 7, -3], [-1, -7, 6], [8, -5, 4]]\n",
        "matB = reshape(matB,(3,3))\n",
        "print(\"Matriks B (3X3): \\n\", matB, \"\\n\")\n",
        "\n",
        "# Definisi Matriks C\n",
        "matC = [[-2, 4], [2, 5], [3, -6]]\n",
        "matC = reshape(matC,(3,2))\n",
        "print(\"Matriks C (3X2): \\n\", matC, \"\\n\")\n",
        "\n",
        "# Perkalian Matriks Menggunakan Perulangan FOR\n",
        "# Perkalian Matriks A dan Matriks B\n",
        "resultAB = [[0, 0, 0],\n",
        "    [0, 0, 0]]\n",
        "\n",
        "# ITERASI DARI BARIS MATRIKS A\n",
        "for i in range(len(matA)):\n",
        "   # ITERASI DARI KOLOM MATRIKS B\n",
        "   for j in range(len(matB[0])):\n",
        "       # ITERASI DARI BARIS MATRIKS B\n",
        "       for k in range(len(matB)):\n",
        "           resultAB[i][j] += matA[i][k] * matB[k][j]\n",
        "\n",
        "print(\"Hasil Perkalian Matriks A dengan Matriks B (2X3):\")\n",
        "for r in resultAB:\n",
        "  print(r)\n",
        "\n",
        "# Perkalian Matriks B dan Matriks C\n",
        "resultBC = [[0, 0],\n",
        "    [0, 0],\n",
        "    [0, 0]]\n",
        "\n",
        "# ITERASI DARI BARIS MATRIKS B\n",
        "for i in range(len(matB)):\n",
        "   # ITERASI DARI KOLOM MATRIKS C\n",
        "   for j in range(len(matC[0])):\n",
        "       # ITERASI DARI BARIS MATRIKS C\n",
        "       for k in range(len(matC)):\n",
        "           resultBC[i][j] += matB[i][k] * matC[k][j]\n",
        "\n",
        "print(\"\\nHasil Perkalian Matriks B dengan Matriks C (3X2):\")\n",
        "for r in resultBC:\n",
        "  print(r)\n",
        "\n",
        "# Perkalian Matriks C dan Matriks A\n",
        "resultCA = [[0, 0, 0],\n",
        "    [0, 0, 0],\n",
        "    [0, 0, 0]]\n",
        "\n",
        "# ITERASI DARI BARIS MATRIKS C\n",
        "for i in range(len(matC)):\n",
        "   # ITERASI DARI KOLOM MATRIKS A\n",
        "   for j in range(len(matA[0])):\n",
        "       # ITERASI DARI BARIS MATRIKS A\n",
        "       for k in range(len(matA)):\n",
        "           resultCA[i][j] += matC[i][k] * matA[k][j]\n",
        "\n",
        "print(\"\\nHasil Perkalian Matriks C dengan Matriks A (3X3):\")\n",
        "for r in resultCA:\n",
        "  print(r)"
      ],
      "metadata": {
        "colab": {
          "base_uri": "https://localhost:8080/"
        },
        "id": "4Tza4VcRfhfe",
        "outputId": "6aa4e001-40af-4e7b-af2e-e180ccda73b2"
      },
      "execution_count": 26,
      "outputs": [
        {
          "output_type": "stream",
          "name": "stdout",
          "text": [
            "Matriks A (2X3): \n",
            " [[ 6 -1  2]\n",
            " [-4 -2  3]] \n",
            "\n",
            "Matriks B (3X3): \n",
            " [[-4  7 -3]\n",
            " [-1 -7  6]\n",
            " [ 8 -5  4]] \n",
            "\n",
            "Matriks C (3X2): \n",
            " [[-2  4]\n",
            " [ 2  5]\n",
            " [ 3 -6]] \n",
            "\n",
            "Hasil Perkalian Matriks A dengan Matriks B (2X3):\n",
            "[-7, 39, -16]\n",
            "[42, -29, 12]\n",
            "\n",
            "Hasil Perkalian Matriks B dengan Matriks C (3X2):\n",
            "[13, 37]\n",
            "[6, -75]\n",
            "[-14, -17]\n",
            "\n",
            "Hasil Perkalian Matriks C dengan Matriks A (3X3):\n",
            "[-28, -6, 8]\n",
            "[-8, -12, 19]\n",
            "[42, 9, -12]\n"
          ]
        }
      ]
    },
    {
      "cell_type": "markdown",
      "source": [
        "TUGAS 2 [TUGAS GALAT] - PENGANTAR PYTHON\n",
        "\n",
        "1. Tampilkan matriks A dan B yang sudah ditentukan\n",
        "2. Kalikan matriks A dan B\n",
        "3. Tampilkan penjumlahan dan perkalian dari matriks A dan B\n"
      ],
      "metadata": {
        "id": "6ZaJpEDof3Z0"
      }
    },
    {
      "cell_type": "code",
      "execution_count": 22,
      "metadata": {
        "colab": {
          "base_uri": "https://localhost:8080/"
        },
        "id": "h_v76IEDc6_0",
        "outputId": "9bf63cf5-5014-4077-d48c-32b3276e4bb5"
      },
      "outputs": [
        {
          "output_type": "stream",
          "name": "stdout",
          "text": [
            "=== NOMOR 1 MENAMPILKAN MATRIKS A DAN MATRIKS B ===\n",
            "Matriks A (3X3): \n",
            " [[1 2 0]\n",
            " [2 2 1]\n",
            " [0 3 3]]\n",
            "\n",
            "Matriks B (3X2): \n",
            " [[-1  5]\n",
            " [ 3  1]\n",
            " [ 0  1]]\n",
            "\n",
            "=== NOMOR 3 MENAMPILKAN PERKALIAN DAN PENJUMLAHAN MATRIKS A DENGAN MATRIKS B ===\n",
            "Hasil Perkalian Matriks A dan Matriks B (3X2):\n",
            "[5, 7]\n",
            "[4, 13]\n",
            "[9, 6]\n",
            "\n",
            "Hasil Penjumlahan Matriks A dan Matriks B:\n",
            "ERROR : List index out of range\n",
            "Kedua matriks tidak memiliki ordo yang sama. Maka penjumlahan antara kedua matriks tidak dapat dilakukan\n"
          ]
        }
      ],
      "source": [
        "# Dengan bantuan numpy, merubah gaya matriks agar benar-benar terlihat seperti matriks\n",
        "from numpy import *\n",
        "\n",
        "A = [[1, 2, 0],\n",
        "    [2, 2, 1],\n",
        "    [0, 3, 3]]\n",
        "\n",
        "B = [[-1, 5],\n",
        "    [3, 1],\n",
        "    [0, 1]]\n",
        "\n",
        "# VARIABEL result DIBUAT UNTUK MENYIMPAN HASIL PERKALIAN DARI MATRIKS A DENGAN MATRIKS B\n",
        "# VARIABEL result MEMBENTUK MATRIKS 3X2\n",
        "result_multiply = [[0, 0],\n",
        "    [0, 0],\n",
        "    [0, 0]]\n",
        "\n",
        "print(\"=== NOMOR 1 MENAMPILKAN MATRIKS A DAN MATRIKS B ===\")\n",
        "# MENAMPILKAN MATRIKS A\n",
        "A = reshape(A,(3,3)) \n",
        "print(\"Matriks A (3X3): \\n\", A)\n",
        "\n",
        "# MENAMPILKAN MATRIKS B\n",
        "B = reshape(B,(3,2)) \n",
        "print(\"\\nMatriks B (3X2): \\n\", B)\n",
        "\n",
        "# === NOMOR 2 MELAKUKAN PERKALIAN MATRIKS A DENGAN MATRIKS B ===\n",
        "# PERKALIAN MATRIKS - DILAKUKAN DENGAN PERULANGAN FOR\n",
        "# ITERASI DARI BARIS MATRIKS A\n",
        "for i in range(len(A)):\n",
        "   # ITERASI DARI KOLOM MATRIKS B\n",
        "   for j in range(len(B[0])):\n",
        "       # ITERASI DARI BARIS MATRIKS B\n",
        "       for k in range(len(B)):\n",
        "           result_multiply[i][j] += A[i][k] * B[k][j]\n",
        "\n",
        "print(\"\\n=== NOMOR 3 MENAMPILKAN PERKALIAN DAN PENJUMLAHAN MATRIKS A DENGAN MATRIKS B ===\")\n",
        "# MENAMPILKAN HASIL PERKALIAN MATRIKS A DENGAN MATRIKS B\n",
        "print(\"Hasil Perkalian Matriks A dan Matriks B (3X2):\")\n",
        "for r in result_multiply:\n",
        "  print(r)\n",
        "\n",
        "# MENAMPILKAN HASIL PENJUMLAHAN MATRIKS A DENGAN MATRIKS B\n",
        "print(\"\\nHasil Penjumlahan Matriks A dan Matriks B:\")\n",
        "try :\n",
        "  result_sum = [[A[i][j] + B[i][j]\n",
        "    for j in range(len(A[0]))]\n",
        "      for i in range(len(A))]\n",
        "  for r in result_sum:\n",
        "   print(r)\n",
        "except IndexError:\n",
        "  print(\"ERROR : List index out of range\")\n",
        "  print(\"Kedua matriks tidak memiliki ordo yang sama. Maka penjumlahan antara kedua matriks tidak dapat dilakukan\")"
      ]
    }
  ]
}