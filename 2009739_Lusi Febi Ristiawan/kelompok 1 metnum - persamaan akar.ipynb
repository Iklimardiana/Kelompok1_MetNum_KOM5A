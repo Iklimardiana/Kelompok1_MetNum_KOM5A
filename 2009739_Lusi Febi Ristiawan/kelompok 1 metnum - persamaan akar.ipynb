{
  "nbformat": 4,
  "nbformat_minor": 0,
  "metadata": {
    "colab": {
      "provenance": []
    },
    "kernelspec": {
      "name": "python3",
      "display_name": "Python 3"
    },
    "language_info": {
      "name": "python"
    }
  },
  "cells": [
    {
      "cell_type": "code",
      "execution_count": null,
      "metadata": {
        "id": "btORxICnrc08"
      },
      "outputs": [],
      "source": [
        "import numpy as np\n",
        "import matplotlib.pyplot as plt\n",
        "\n",
        "fungsi = input('Masukkan persamaan fungsi x : ')\n",
        "\n",
        "a = float(input('Masukkan nilai a : '))\n",
        "b = float(input('Masukkan nilai b : '))\n",
        "\n",
        "print('Akar persamaan adalah ', a, ' dan ', b)\n",
        "\n",
        "def f(x):\n",
        "  y = fungsi.replace('x',str(x))\n",
        "  return eval(y)\n",
        "\n",
        "def bisection(a, b, galat):\n",
        "  n = 1\n",
        "  if(f(a)*f(b)>0):\n",
        "    print('Tidak memiliki akar persamaan')\n",
        "  else:\n",
        "    while abs(b-a) > galat:\n",
        "      x = (a+b)/2\n",
        "      print(n, '\\t', round(a,4), '  \\t', round(b,4), '  \\t', round(x,4), '  \\t', round(f(a),4), '  \\t', round(f(b),4), '  \\t', round(f(x),4))\n",
        "\n",
        "      if f(x)==0:\n",
        "        print('Akar persamaannya adalah ', x)\n",
        "        break\n",
        "      elif f(a)*f(x) < 0:\n",
        "        b = x\n",
        "      else:\n",
        "        a = x\n",
        "      n += 1\n",
        "\n",
        "    print('Akar persamaannya adalah ', round(a, 11), ' dan ', round(b,11))\n",
        "\n",
        "print('n\\t a    \\t\\t b    \\t\\t c    \\t\\t f(a)    \\t\\t f(b)    \\t\\t f(c)')\n",
        "\n",
        "bisection (a,b, 0.0001)\n",
        "\n",
        "x = np.linspace(a,b)\n",
        "plt.plot(x, eval(fungsi))\n",
        "plt.grid()\n",
        "plt.show()"
      ]
    }
  ]
}