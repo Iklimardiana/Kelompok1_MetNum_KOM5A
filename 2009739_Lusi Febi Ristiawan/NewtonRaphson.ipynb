{
  "nbformat": 4,
  "nbformat_minor": 0,
  "metadata": {
    "colab": {
      "provenance": []
    },
    "kernelspec": {
      "name": "python3",
      "display_name": "Python 3"
    },
    "language_info": {
      "name": "python"
    }
  },
  "cells": [
    {
      "cell_type": "code",
      "execution_count": null,
      "metadata": {
        "id": "GOeA9_tFuu2l"
      },
      "outputs": [],
      "source": [
        "#f(x)\n",
        "def fx(x):\n",
        "  fx = x**2 - 2*x - 8\n",
        "  return fx\n",
        "\n",
        "#turunan f(x) / f'(x)\n",
        "def fx_turunan(x):\n",
        "  fx_turunan = 2*x - 2\n",
        "  return fx_turunan\n",
        "\n",
        "x = float(input('x0 = '))\n",
        "error = float(input('error = '))\n",
        "\n",
        "x1 = x - (fx(x)/fx_turunan(x))\n",
        "print('iterasi 0 | ', 'x = ', x, ' | ', 'f(x) = ', fx(x), ' | ',  'x1 = ', x1)\n",
        "\n",
        "iterasi = 0\n",
        "\n",
        "for i in range(0,10):\n",
        "  iterasi += 1\n",
        "  x1 = x - (fx(x)/fx_turunan(x))\n",
        "  x = x1\n",
        "  if fx(x)==error:\n",
        "    break\n",
        "  print('iterasi ', iterasi, ' | ', 'x = ', x, ' | ', 'f(x) = ', fx(x), ' | ',  'x1 = ', x1)"
      ]
    }
  ]
}