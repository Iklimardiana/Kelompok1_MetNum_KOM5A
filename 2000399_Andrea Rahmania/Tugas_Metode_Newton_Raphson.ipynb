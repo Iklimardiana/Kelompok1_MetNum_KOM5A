{
  "nbformat": 4,
  "nbformat_minor": 0,
  "metadata": {
    "colab": {
      "provenance": []
    },
    "kernelspec": {
      "name": "python3",
      "display_name": "Python 3"
    },
    "language_info": {
      "name": "python"
    }
  },
  "cells": [
    {
      "cell_type": "code",
      "execution_count": null,
      "metadata": {
        "id": "pWMju0_V9_HD"
      },
      "outputs": [],
      "source": [
        "#Nama   : Andrea Rahmania\n",
        "#NIM    : 2000399\n",
        "#Kelas  : PILKOM 5A\n",
        "#Tugas  : Metode Numerik (Metode Newton Raphson)\n",
        "\n",
        "\n",
        "#Mendeklarasikan Fungsi Akar Persamaan\n",
        "def f(x):\n",
        "    return x**2 - 2*x - 8\n",
        "\n",
        "#Mendeklarasikan turunan dari fungsi f(x)\n",
        "def g(x):\n",
        "    return 2*x-2\n",
        "\n",
        "#Mengimplementasikan fungsi untuk metode newton raphson \n",
        "def newtonRaphson(x0,e,N):\n",
        "    iterasi = 0\n",
        "    tanda = 1\n",
        "    kondisi = True\n",
        "    while kondisi: \n",
        "        x1 = x0 - f(x0)/g(x0)\n",
        "        print('Iterasi-%d, x1 = %0.3f dan f(x1) = %0.3f' % (iterasi+1, x1, f(x1)))\n",
        "        x0 = x1\n",
        "        iterasi = iterasi + 1\n",
        "            \n",
        "        if iterasi > N:\n",
        "            tanda = 0\n",
        "            break\n",
        "            \n",
        "        kondisi = abs(f(x1)) > e\n",
        "    \n",
        "    if tanda==1:\n",
        "        print('\\nAkar dari persamaan fungsi tersebut adalah: %0.3f dan terletak pada iterasi ke-%d' % (x1, iterasi))\n",
        "    else:\n",
        "        print('\\nTidak ada akar dari fungsi tersebut dalam iterasi ini')\n",
        "\n",
        "\n",
        "#Tahap untuk menginputkan x0, e dan N\n",
        "x0 = float(input('Inputkan tebakan awal '))\n",
        "e = float(input('Inputkan toleransi error: '))\n",
        "N = int(input('Inputkan jumlah maksimal iterasi: '))\n",
        "\n",
        "\n",
        "#Pemanggilan fungsi metode newton-raphson\n",
        "if (g(x0)!=0):\n",
        "    newtonRaphson(x0,e,N)\n",
        "else:\n",
        "    print('Tidak dapat menghasilkan x1 karena g(x0)=0 \\nSilakan ulangi lagi dengan menginput angka tebakan awal yang berbeda!')"
      ]
    }
  ]
}