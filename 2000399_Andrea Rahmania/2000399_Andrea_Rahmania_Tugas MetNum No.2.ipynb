{
  "nbformat": 4,
  "nbformat_minor": 0,
  "metadata": {
    "colab": {
      "provenance": [],
      "collapsed_sections": []
    },
    "kernelspec": {
      "name": "python3",
      "display_name": "Python 3"
    },
    "language_info": {
      "name": "python"
    }
  },
  "cells": [
    {
      "cell_type": "code",
      "execution_count": 4,
      "metadata": {
        "colab": {
          "base_uri": "https://localhost:8080/"
        },
        "id": "PhAdSMLz7KrP",
        "outputId": "a5a4a1e0-a22e-49d1-94b4-f80117e79cbc"
      },
      "outputs": [
        {
          "output_type": "stream",
          "name": "stdout",
          "text": [
            "a. Menampilkan matriks A dan B\n",
            "\n",
            "matriks A [[1, 2, 0], [2, 2, 1], [0, 3, 3]]\n",
            "1 2 0 \n",
            "2 2 1 \n",
            "0 3 3 \n",
            "\n",
            "matriks B [[-1, 5], [3, 1], [0, 1]]\n",
            "-1 5 \n",
            "3 1 \n",
            "0 1 \n",
            "\n",
            "c. Hasil penjumlahan dan perkalian matriks A dan B\n",
            "\n",
            "Matriks A + B\n",
            "Matriks tidak dapat dijumlahkan karena memiliki ordo yang berbeda\n",
            "\n",
            "Matriks A X B\n",
            "[5, 7]\n",
            "[4, 13]\n",
            "[9, 6]\n"
          ]
        }
      ],
      "source": [
        "#Nama   : Andrea Rahmania\n",
        "#NIM    : 2000399\n",
        "#Kelas  : PILKOM - A\n",
        "#Tugas  : Metode Numerik\n",
        "\n",
        "#a. Menampilkan matriks A dan B\n",
        "#mendefinisikan matriks A\n",
        "print ('a. Menampilkan matriks A dan B\\n')\n",
        "A = [[1, 2, 0],\n",
        "    [2, 2, 1],\n",
        "    [0, 3, 3]]\n",
        "print ('matriks A',A)\n",
        "for x in range(0, len(A)):\n",
        "    for y in range(0, len(A[0])):\n",
        "        print (A[x][y], end=' '),\n",
        "    print ()\n",
        "\n",
        "#mendefinisikan matriks B\n",
        "B = [[-1, 5],\n",
        "    [3, 1],\n",
        "    [0, 1]]\n",
        "print ('\\nmatriks B',B)\n",
        "for x in range(0, len(B)):\n",
        "    for y in range(0, len(B[0])):\n",
        "        print (B[x][y], end=' '),\n",
        "    print ()\n",
        "\n",
        "#b. Mengalikan matriks A dan B\n",
        "#hasil perkalian memiliki ordo 3x2\n",
        "hasil = [[0,0],\n",
        "         [0,0],\n",
        "         [0,0]]\n",
        "\n",
        "#iterasi baris matriks A\n",
        "for i in range(len(A)):\n",
        "   #iterasi kolom matriks B\n",
        "   for j in range(len(B[0])):\n",
        "       #iterasi baris matriks B\n",
        "       for k in range(len(B)):\n",
        "           hasil[i][j] += A[i][k] * B[k][j]\n",
        "\n",
        "#c. Menampilkan hasil penjumlahan dan perkalian matriks A dan B\n",
        "print ('\\nc. Hasil penjumlahan dan perkalian matriks A dan B\\n')\n",
        "print ('Matriks A + B')\n",
        "#misalkan hasil penjumlahan matriks A dan B adalah matriks C\n",
        "C = []\n",
        "#menggunakan try exception\n",
        "try:\n",
        "  for i in range (0, len(A)):\n",
        "    hasilpenjumlahan = 0\n",
        "    row = []\n",
        "    for j in range (0, len(A[0])):\n",
        "      hasiljumlah = A[i][j] + B[i][j]\n",
        "      row.append(hasilpenjumlahan)\n",
        "  print(row)\n",
        "  C.append(row)\n",
        "  print(C)\n",
        "except:\n",
        "  print ('Matriks tidak dapat dijumlahkan karena memiliki ordo yang berbeda\\n')\n",
        "\n",
        "#hasil perkalian matriks\n",
        "print ('Matriks A X B')\n",
        "for result in hasil:\n",
        "   print(result)\n",
        "\n"
      ]
    }
  ]
}