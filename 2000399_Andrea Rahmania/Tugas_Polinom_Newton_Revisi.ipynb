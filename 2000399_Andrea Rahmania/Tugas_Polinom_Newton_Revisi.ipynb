{
  "nbformat": 4,
  "nbformat_minor": 0,
  "metadata": {
    "colab": {
      "provenance": []
    },
    "kernelspec": {
      "name": "python3",
      "display_name": "Python 3"
    },
    "language_info": {
      "name": "python"
    }
  },
  "cells": [
    {
      "cell_type": "code",
      "execution_count": null,
      "metadata": {
        "id": "S-oCDZ1y6kNc"
      },
      "outputs": [],
      "source": [
        "# Andrea Rahmania\n",
        "# 2000399\n",
        "# Tugas Polinom Newton\n",
        "\n",
        "import numpy as np\n",
        "import matplotlib.pyplot as plt\n",
        "import pandas as pd\n",
        "\n",
        "def divided_diff(x, y):\n",
        "\n",
        "    n = len(y)\n",
        "    ST = np.zeros([n, n]) \n",
        "    ST[:,0] = y \n",
        "\n",
        "    print(ST)\n",
        "    \n",
        "    for j in range(1,n):\n",
        "\n",
        "        print(\"ini iterasi j ke-\",j)\n",
        "\n",
        "        for i in range(0,n-j):\n",
        "\n",
        "            print(\"ini iterasi i ke-\",i)\n",
        "\n",
        "\n",
        "            ST[i][j] = (ST[i+1][j-1] - ST[i][j-1]) / (x[i+j]-x[i])\n",
        "\n",
        "            print(ST)\n",
        "            return ST  #nilai dari Selisih terbagi\n",
        "def newton_poly(ST_hasil, x_data, x_input):\n",
        "   \n",
        "    n = len(x_data) - 1\n",
        "    print (y)\n",
        "    p = ST_hasil[n]\n",
        "\n",
        "\n",
        "    for k in range(1,n+1):\n",
        "        p = ST_hasil[n-k] + (x_input -x_data[n-k])*p   #p(x) = a0 + a1(x-x0)+ a2(x-x0)(x-x1)+...\n",
        "\n",
        "    return p\n",
        "  \n",
        "x = np.array([5,10,15])\n",
        "y = np.array([40,30,25])\n",
        "\n",
        "# get the divided difference coef\n",
        "masukan = float(input(\"Inputkan Nilai: \"))\n",
        "a_s = divided_diff(x, y)[0,:]\n",
        "\n",
        "print(\"Merupakan Nilai dari:\",a_s)\n",
        "\n",
        "# evaluate on new data points\n",
        "# x_new = np.arange(0, 10, 1)\n",
        "\n",
        "# print(x_new)\n",
        "\n",
        "# y_new = newton_poly(a_s, x, x_new)\n",
        "y_new = newton_poly(a_s, x, masukan)\n",
        "\n",
        "print(y_new)\n",
        "plt.figure(figsize = (7, 4)) #background grafiknya\n",
        "plt.plot(x,y)\n",
        "plt.plot(x, y,'o')\n",
        "plt.plot(masukan, y_new, 'ro')\n",
        "\n",
        "# plt.plot(x_new, y_new)\n",
        "     "
      ]
    }
  ]
}