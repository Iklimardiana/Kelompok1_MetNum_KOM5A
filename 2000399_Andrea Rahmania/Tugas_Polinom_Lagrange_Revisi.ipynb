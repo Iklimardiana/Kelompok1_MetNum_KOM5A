{
  "nbformat": 4,
  "nbformat_minor": 0,
  "metadata": {
    "colab": {
      "provenance": []
    },
    "kernelspec": {
      "name": "python3",
      "display_name": "Python 3"
    },
    "language_info": {
      "name": "python"
    }
  },
  "cells": [
    {
      "cell_type": "code",
      "execution_count": null,
      "metadata": {
        "id": "S-oCDZ1y6kNc"
      },
      "outputs": [],
      "source": [
        "# Andrea Rahmania\n",
        "# 2000399\n",
        "# Tugas Polinom Lagrange\n",
        "\n",
        "import numpy as np\n",
        "\n",
        "# Inputkan jumlah data\n",
        "n = int(input('Masukkan jumlah data : '))\n",
        "\n",
        "# Membuat numpy array dari n dengan ukuran n x n dan menginisialisasi\n",
        "# ke 0 untuk ditempatkan ke dalam hasil x dan y dengan perbandingan y\n",
        "x = np.zeros((n))\n",
        "y = np.zeros((n))\n",
        "\n",
        "\n",
        "# Memasukkan nilai x dan y\n",
        "print('Masukkan nilai x dan y: ')\n",
        "for i in range(n):\n",
        "    x[i] = float(input( 'x['+str(i)+']='))\n",
        "    y[i] = float(input( 'y['+str(i)+']='))\n",
        "\n",
        "# Membaca poin interpolasi atau xp\n",
        "xp = float(input('Masukkan perkiraan interpolasi atau xp: '))\n",
        "\n",
        "# Set hasil yp menjadi 0\n",
        "yp = 0\n",
        "\n",
        "# Implementasi interpolasi lagrange\n",
        "for i in range(n): #Selama i masih berada dalam range n\n",
        "    \n",
        "    p = 1 # maka p bernilai 1\n",
        "    \n",
        "for j in range(n): # Selama j masih berada dalam range n\n",
        "    # Pengecekan\n",
        "    if i != j: # Jika i tidak sama dengan j\n",
        "      p = p * (xp - x[j])/(x[i] - x[j]) # Maka p akan berisi hasil dari p * (xp - x[j])/(x[i] - x[j])\n",
        "    \n",
        "# Setelah mengalami perulangan j, maka menghitung untuk mendapatkan hasil yp\n",
        "yp = yp + p * y[i] \n",
        "\n",
        "# Menampilkan hasil\n",
        "print('Hasil interpolasi dari xp = %.3f adalah %.3f.' % (xp, yp))"
      ]
    }
  ]
}