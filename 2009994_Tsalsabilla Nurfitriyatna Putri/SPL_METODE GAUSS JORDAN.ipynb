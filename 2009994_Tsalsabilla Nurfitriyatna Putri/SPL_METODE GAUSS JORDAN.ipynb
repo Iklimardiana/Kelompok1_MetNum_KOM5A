{
  "nbformat": 4,
  "nbformat_minor": 0,
  "metadata": {
    "colab": {
      "provenance": []
    },
    "kernelspec": {
      "name": "python3",
      "display_name": "Python 3"
    },
    "language_info": {
      "name": "python"
    }
  },
  "cells": [
    {
      "cell_type": "code",
      "execution_count": null,
      "metadata": {
        "id": "i3H9cfbwSMwH"
      },
      "outputs": [],
      "source": [
        "import numpy as np\n",
        "import sys\n",
        "\n",
        "n = int(input('Masukkan jumlah variabel:: '))\n",
        "\n",
        "# Membuat array yang memiliki dimensi n x n+1 \n",
        "# dan menginisialisasikan untuk array matriks\n",
        "a = np.zeros((n,n+1))\n",
        "\n",
        "# Membuat array dengan ukuran n \n",
        "# dan menginisialisasikan untuk solusi vector\n",
        "x = np.zeros(n)\n",
        "\n",
        "# Membaca matriks SPL\n",
        "print('Masukkan isi dari matriks SPL:')\n",
        "for i in range(n):\n",
        "    for j in range(n+1):\n",
        "        a[i][j] = float(input( 'a['+str(i)+']['+ str(j)+']='))\n",
        "\n",
        "# Mengaplikasikan Eliminasi Gauss Jordan\n",
        "for i in range(n):\n",
        "    if a[i][i] == 0.0:\n",
        "        sys.exit('Divide by zero detected!')\n",
        "        \n",
        "    for j in range(n):\n",
        "        if i != j:\n",
        "            ratio = a[j][i]/a[i][i]\n",
        "\n",
        "            for k in range(n+1):\n",
        "                a[j][k] = a[j][k] - ratio * a[i][k]\n",
        "\n",
        "# Mendapatkan solusi\n",
        "for i in range(n):\n",
        "    x[i] = a[i][n]/a[i][i]\n",
        "\n",
        "# Menampilkan solusi\n",
        "print('\\nHasilnya adalah: ')\n",
        "for i in range(n):\n",
        "    print('X%d = %0.2f' %(i,x[i]), end = '\\t')"
      ]
    }
  ]
}