{
  "nbformat": 4,
  "nbformat_minor": 0,
  "metadata": {
    "colab": {
      "provenance": []
    },
    "kernelspec": {
      "name": "python3",
      "display_name": "Python 3"
    },
    "language_info": {
      "name": "python"
    }
  },
  "cells": [
    {
      "cell_type": "code",
      "execution_count": null,
      "metadata": {
        "id": "i3H9cfbwSMwH"
      },
      "outputs": [],
      "source": [
        "def newtons(f,df,x0): \n",
        "  e = 10**-5\n",
        "  N = 10 \n",
        "  for i in range (1,N):\n",
        "    if abs(f(x0)) < e: \n",
        "        return x0\n",
        "    if df(x0) == 0:\n",
        "        print(\"Zero derivative\")\n",
        "        return None\n",
        "    x0 = x0 - f(x0)/df(x0)\n",
        "  print(\"Maximum iteration\")\n",
        "  return x0\n",
        "  \n",
        "f = lambda x : x**2+3*x-108\n",
        "df = lambda x : 2*x+3\n",
        "x0 = 2\n",
        "x_root = newtons(f,df,x0)\n",
        "print('Result : ', x_root)"
      ]
    }
  ]
}