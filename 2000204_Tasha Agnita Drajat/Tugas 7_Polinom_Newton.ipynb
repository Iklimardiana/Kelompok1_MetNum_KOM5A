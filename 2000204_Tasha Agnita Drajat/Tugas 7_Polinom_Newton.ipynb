{
  "nbformat": 4,
  "nbformat_minor": 0,
  "metadata": {
    "colab": {
      "provenance": []
    },
    "kernelspec": {
      "name": "python3",
      "display_name": "Python 3"
    },
    "language_info": {
      "name": "python"
    }
  },
  "cells": [
    {
      "cell_type": "code",
      "execution_count": 7,
      "metadata": {
        "colab": {
          "base_uri": "https://localhost:8080/",
          "height": 491
        },
        "id": "HRpM5ioQfdUV",
        "outputId": "954ef5fc-c881-40c6-c2ae-7edc140a8811"
      },
      "outputs": [
        {
          "output_type": "stream",
          "name": "stdout",
          "text": [
            "Masukan Nilai: 4\n",
            "[[40.  0.  0.]\n",
            " [30.  0.  0.]\n",
            " [25.  0.  0.]]\n",
            "ini iterasi j ke- 1\n",
            "ini iterasi i ke- 0\n",
            "[[40. -2.  0.]\n",
            " [30.  0.  0.]\n",
            " [25.  0.  0.]]\n",
            "ini Nilai dari: [40. -2.  0.]\n",
            "[40 30 25]\n",
            "42.0\n"
          ]
        },
        {
          "output_type": "execute_result",
          "data": {
            "text/plain": [
              "[<matplotlib.lines.Line2D at 0x7f6065e490d0>]"
            ]
          },
          "metadata": {},
          "execution_count": 7
        },
        {
          "output_type": "display_data",
          "data": {
            "text/plain": [
              "<Figure size 504x288 with 1 Axes>"
            ],
            "image/png": "[encoded data removed]"
          },
          "metadata": {
            "needs_background": "light"
          }
        }
      ],
      "source": [
        "import numpy as np\n",
        "import matplotlib.pyplot as plt\n",
        "import pandas as pd\n",
        "\n",
        "def divided_diff(x, y):\n",
        "\n",
        "    n = len(y)\n",
        "    ST = np.zeros([n, n]) #membuat matrik 0 ber ordo n x n \n",
        "    ST[:,0] = y #menyimpan Y pada matriks ST pada kolom pada indeks ke-0\n",
        "\n",
        "    print(ST)\n",
        "    \n",
        "    for j in range(1,n):\n",
        "\n",
        "        print(\"ini iterasi j ke-\",j)\n",
        "\n",
        "        for i in range(0,n-j):\n",
        "\n",
        "            print(\"ini iterasi i ke-\",i)\n",
        "\n",
        "\n",
        "            ST[i][j] = (ST[i+1][j-1] - ST[i][j-1]) / (x[i+j]-x[i])\n",
        "\n",
        "            print(ST)\n",
        "            return ST  #nilai dari Selisih terbagi\n",
        "\n",
        "def newton_poly(ST_hasil, x_data, x_input):\n",
        "   \n",
        "    n = len(x_data) - 1\n",
        "    print (y)\n",
        "    p = ST_hasil[n]\n",
        "\n",
        "\n",
        "    for k in range(1,n+1):\n",
        "        p = ST_hasil[n-k] + (x_input -x_data[n-k])*p   #p(x) = a0 + a1(x-x0)+ a2(x-x0)(x-x1)+...\n",
        "\n",
        "    return p\n",
        "  \n",
        "x = np.array([5,10,15])\n",
        "y = np.array([40,30,25])\n",
        "\n",
        "# get the divided difference coef\n",
        "masukan = float(input(\"Masukan Nilai: \"))\n",
        "a_s = divided_diff(x, y)[0,:]\n",
        "\n",
        "print(\"ini Nilai dari:\",a_s)\n",
        "\n",
        "# evaluate on new data points\n",
        "# x_new = np.arange(0, 10, 1)\n",
        "\n",
        "# print(x_new)\n",
        "\n",
        "# y_new = newton_poly(a_s, x, x_new)\n",
        "y_new = newton_poly(a_s, x, masukan)\n",
        "\n",
        "print(y_new)\n",
        "\n",
        "\n",
        "plt.figure(figsize = (7, 4)) #untuk bikin background grafiknya\n",
        "plt.plot(x,y)\n",
        "plt.plot(x, y,'o')\n",
        "plt.plot(masukan, y_new, 'ro')\n",
        "\n",
        "# plt.plot(x_new, y_new)"
      ]
    }
  ]
}