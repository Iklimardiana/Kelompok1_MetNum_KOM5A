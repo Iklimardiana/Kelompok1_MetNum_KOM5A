{
  "nbformat": 4,
  "nbformat_minor": 0,
  "metadata": {
    "colab": {
      "provenance": [],
      "collapsed_sections": []
    },
    "kernelspec": {
      "name": "python3",
      "display_name": "Python 3"
    },
    "language_info": {
      "name": "python"
    }
  },
  "cells": [
    {
      "cell_type": "code",
      "execution_count": 18,
      "metadata": {
        "colab": {
          "base_uri": "https://localhost:8080/"
        },
        "id": "BvbjFM-Fzu8I",
        "outputId": "052d935e-acf1-4699-bbd9-c9f7d94d5fa6"
      },
      "outputs": [
        {
          "output_type": "stream",
          "name": "stdout",
          "text": [
            "A = \n",
            "[1, 2, 0]\n",
            "[2, 2, 1]\n",
            "[0, 3, 3]\n",
            "\t\n",
            "B = \n",
            "[-1, 5]\n",
            "[3, 1]\n",
            "[0, 1]\n",
            "\t\n",
            "hasil dari A x B = \n",
            "[5, 7]\n",
            "[4, 13]\n",
            "[9, 6]\n",
            "\t\n",
            "hasil dari A+B = \n",
            "Tidak ada hasil\n",
            "karena memiliki ordo yang berbeda, jadi tidak bisa dijumlahkan\n"
          ]
        }
      ],
      "source": [
        "#Nama   : Tasha Agnita D\n",
        "#NIM    : 2000204\n",
        "#Kelas  : Pilkom A\n",
        "#Tugas  : Metnum_Tugas 1\n",
        "\n",
        "#Tampilkan Matriks\n",
        "A = [\n",
        "    [1, 2, 0],\n",
        "    [2, 2, 1],\n",
        "    [0, 3, 3 ] ]\n",
        "\n",
        "B = [\n",
        "    [-1, 5 ],\n",
        "    [3, 1 ], \n",
        "    [0, 1 ], \n",
        "    ]\n",
        "\n",
        "print (\"A = \")\n",
        "for baris in range(3):\n",
        "    print(A[baris])\n",
        "print (\"\\t\")\n",
        "\n",
        "print (\"B = \")\n",
        "for baris in range(3):\n",
        "    print(B[baris])\n",
        "print (\"\\t\")\n",
        "\n",
        "\n",
        "#mengalikan A dan B\n",
        "#hasil kali memiliki ordo 3x2 maka,\n",
        "C = [[0,0],\n",
        "    [0,0],\n",
        "    [0,0]]\n",
        "\n",
        "print(\"hasil dari A x B = \")\n",
        "\n",
        "for i in range(len(A)):\n",
        "   for j in range(len(B[0])):\n",
        "       for k in range(len(B)):\n",
        "           C[i][j] += A[i][k] * B[k][j]\n",
        "\n",
        "for hasil in C:\n",
        "   print(hasil)\n",
        "\n",
        "#penjumlahan dari A dan B\n",
        "#menggunakan try exception\n",
        "try:\n",
        "  for i in range (0, len(A)):\n",
        "    hasilpenjumlahan = 0\n",
        "    row = []\n",
        "    for j in range (0, len(A[0])):\n",
        "      hasiljumlah = A[i][j] + B[i][j]\n",
        "      row.append(hasilpenjumlahan)\n",
        "  print(row)\n",
        "  C.append(row)\n",
        "  print(C)\n",
        "\n",
        "except:\n",
        "  print (\"\\t\")\n",
        "  print (\"hasil dari A+B = \")\n",
        "  print (\"Tidak ada hasil\")\n",
        "  print (\"karena memiliki ordo yang berbeda, jadi tidak bisa dijumlahkan\")\n"
      ]
    }
  ]
}