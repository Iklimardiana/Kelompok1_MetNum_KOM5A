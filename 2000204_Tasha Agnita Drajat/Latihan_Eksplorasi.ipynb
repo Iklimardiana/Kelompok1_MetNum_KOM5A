{
  "nbformat": 4,
  "nbformat_minor": 0,
  "metadata": {
    "colab": {
      "provenance": []
    },
    "kernelspec": {
      "name": "python3",
      "display_name": "Python 3"
    },
    "language_info": {
      "name": "python"
    }
  },
  "cells": [
    {
      "cell_type": "code",
      "execution_count": 1,
      "metadata": {
        "colab": {
          "base_uri": "https://localhost:8080/"
        },
        "id": "GrIeaK_1kCL2",
        "outputId": "2bfa955a-86c2-4bf9-ef21-8dd101ddfbdb"
      },
      "outputs": [
        {
          "output_type": "stream",
          "name": "stdout",
          "text": [
            "matriks A \n",
            " [[2, 1, 2], [3, 5, 6]]\n",
            "matriks B \n",
            " [[7, 8, 5], [4, 7, 2], [1, 9, 6]]\n",
            "matriks C \n",
            " [[2, 4], [3, 7], [4, 8]]\n",
            "\n",
            "\n",
            "matriks A X B \n",
            " [[ 20  41  24]\n",
            " [ 47 113  61]]\n",
            "matriks B X C \n",
            " [[ 58 124]\n",
            " [ 37  81]\n",
            " [ 53 115]]\n",
            "matriks C X A \n",
            " [[16 22 28]\n",
            " [27 38 48]\n",
            " [32 44 56]]\n"
          ]
        }
      ],
      "source": [
        "import numpy as np\n",
        "# Definisikan suatu matriks A berordo 2x3 dengan entri-entri yang ditentukan sendiri\n",
        "#tulis code disini\n",
        "A = [[2, 1, 2],\n",
        "    [3, 5, 6]]\n",
        "print ('matriks A \\n',A)\n",
        "\n",
        "# Definisikan suatu matriks B berordo 3x3 dengan entri-entri yang ditentukan sendiri\n",
        "#tulis code disini\n",
        "B = [[7, 8, 5],\n",
        "    [4, 7, 2],\n",
        "    [1, 9, 6]]\n",
        "print ('matriks B \\n', B)\n",
        "\n",
        "# Definisikan suatu matriks C berordo 3x2 dengan entri-entri yang ditentukan sendiri\n",
        "#tulis code disini\n",
        "C = [[2, 4],\n",
        "    [3, 7],\n",
        "    [4, 8]]\n",
        "print ('matriks C \\n',C)\n",
        "print ('\\n')\n",
        "\n",
        "# Carilah perkalian matriks A dan B kemudian print hasilnya\n",
        "#tulis code disini\n",
        "print ('matriks A X B \\n', np.matmul(A,B))\n",
        "\n",
        "# Carilah perkalian matriks B dan C kemudian print hasilnya\n",
        "#tulis code disini\n",
        "print ('matriks B X C \\n', np.matmul(B,C))\n",
        "\n",
        "# Carilah perkalian matriks C dan A kemudian print hasilnya\n",
        "#tulis code disini\n",
        "print ('matriks C X A \\n', np.matmul(C,A))"
      ]
    }
  ]
}